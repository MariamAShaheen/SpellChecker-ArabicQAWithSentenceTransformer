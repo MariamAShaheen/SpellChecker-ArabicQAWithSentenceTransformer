{
  "nbformat": 4,
  "nbformat_minor": 0,
  "metadata": {
    "colab": {
      "provenance": [],
      "toc_visible": true
    },
    "kernelspec": {
      "name": "python3",
      "display_name": "Python 3"
    },
    "language_info": {
      "name": "python"
    }
  },
  "cells": [
    {
      "cell_type": "code",
      "source": [
        "'''\n",
        "Trie\n",
        "\n",
        "    This class represents a Trie data structure, which is a tree-like data structure used for efficiently storing and searching a set of strings. It is  useful for implementing spell checker functionality.\n",
        "\n",
        "Attributes:\n",
        "\n",
        "    root (TrieNode): The root node of the Trie\n",
        "\n",
        "    keyboard_mapping (dict): A dictionary representing the mapping of characters on a keyboard. Each key is a character, and its corresponding value is a set of characters that are adjacent to it on a standard keyboard layout.\n",
        "    inspired from confustion matrix of Arabic keyboard spelling errors.\n",
        "\n",
        "Methods:\n",
        "\n",
        "    insert(word: str) -> None\n",
        "        Inserts a word into the Trie. It iterates through each character in the word and adds it to the Trie till the , updating the count of occurrences for each node.\n",
        "        Timee complexity: O(m), where m is the length of the word being inserted.\n",
        "\n",
        "    frequency(word: str) -> int\n",
        "        Returns the frequency count of a given word in the Trie. It traverses the Trie based on the characters in the word and returns the count associated with the final node.\n",
        "\n",
        "    search(word: str) -> str\n",
        "        Searches for a word in the Trie. It iterates through each character in the word and traverses the Trie accordingly. If the word is found, it returns the word with time complexity O(m), where m is the length of the word being searched.\n",
        "        otherwise, it returns suggestions based on the prefix of word or prefix with replaced from keyboard mapping.\n",
        "\n",
        "    suggestions(word: str) -> set\n",
        "        Generates suggestions for a given prefix. It searches for words starting with the given prefix and returns them as a set, sorted by their frequency counts.\n",
        "\n",
        "    _search(node: TrieNode, prefix: str, results: list) -> None\n",
        "        Helper method for searching words with a given prefix. It recursively traverses the Trie starting from the given node and accumulates results matching the prefix.\n",
        "\n",
        "    _collect(node: TrieNode, prefix: str, results: list) -> None\n",
        "        Helper method for collecting words during Trie traversal. It recursively traverses the Trie starting from the given node and collects words that end at that node.\n",
        "'''\n",
        "\n",
        "class TrieNode:\n",
        "    def __init__(self):\n",
        "        self.children = {}\n",
        "        self.is_end_of_word = False\n",
        "        self.count = 1\n",
        "\n",
        "class Trie:\n",
        "    def __init__(self):\n",
        "        self.root = TrieNode()\n",
        "        self.keyboard_mapping = {\n",
        "            'ض': {'ص', 'ز'},\n",
        "            'ص': {'ض', 'ث', 'ت'},\n",
        "            'ث': {'ص', 'ق', 'ف'},\n",
        "            'ق': {'ث', 'غ', 'ف', 'ر'},\n",
        "            'ف': {'ق', 'غ', 'ع', 'ر', 'ش'},\n",
        "            'غ': {'ف', 'ع', 'ه', 'ر', 'س', 'ش'},\n",
        "            'ع': {'غ', 'ه', 'خ', 'س',  'ن'},\n",
        "            'ه': {'ع', 'خ', 'ح', 'س', 'م', 'ن'},\n",
        "            'خ': {'ه', 'ج', 'ح', 'س', 'ل', 'م'},\n",
        "            'ح': {'خ', 'ج', 'ط', 'ل', 'و', 'ن'},\n",
        "            'ج': {'ح', 'ط', 'ذ', 'ل', 'ي', 'م'},\n",
        "            'ط': {'ج', 'ح', 'ذ', 'خ', 'ب', 'ن', 'ي'},\n",
        "            'ذ': {'ط', 'ج', 'ش', 'ث', 'ب', 'ة', 'ي'},\n",
        "            'ش': {'ذ', 'ف', 'غ', 'ث', 'ة', 'ه'},\n",
        "            'س': {'ش', 'غ', 'ع', 'ل', 'ة', 'ن', 'م'},\n",
        "            'ي': {'س', 'ج', 'ن', 'ل'},\n",
        "            'ب': {'ط', 'ذ', 'ن', 'ل', 'ة'},\n",
        "            'ل': {'ي', 'ب', 'ت', 'ن', 'ر', 'س', 'م'},\n",
        "            'ا': {'ل', 'ن', 'م'},\n",
        "            'ت': {'ا', 'ل', 'ب', 'ن', 'ة', 'ك'},\n",
        "            'ن': {'ي', 'ا', 'ل', 'ب', 'ت', 'ة', 'و', 'ر', 'ك', 'م'},\n",
        "            'م': {'و', 'ي', 'ا', 'ل', 'ب', 'ت', 'ة', 'ك'},\n",
        "            'ك': {'ت', 'ن', 'م', 'ة', 'و'},\n",
        "            'ة': {'ك', 'ت', 'ب', 'ن', 'م', 'ة', 'و'},\n",
        "            'و': {'ر', 'ك', 'م', 'ن', 'ة', 'ي'},\n",
        "            'ى': {'و', 'ر', 'ك', 'م', 'ن', 'ة', 'ي'},\n",
        "            'ر': {'ت', 'و', 'ى', 'ك', 'م', 'ن', 'ة'},\n",
        "            'ؤ': {'ر', 'ك', 'م', 'ن', 'ة', 'ي'},\n",
        "            'ظ': {'ر', 'و', 'ك', 'م', 'ن', 'ة'}\n",
        "        }\n",
        "    def insert(self, word):\n",
        "        node = self.root\n",
        "        for char in word:\n",
        "            if char not in node.children:\n",
        "                node.children[char] = TrieNode()\n",
        "            node = node.children[char]\n",
        "            node.count += 1\n",
        "\n",
        "        node.is_end_of_word = True\n",
        "\n",
        "    def frequency(self, word: str):\n",
        "        current = self.root\n",
        "        for char in word:\n",
        "            if char not in current.children:\n",
        "                return 0\n",
        "            current = current.children[char]\n",
        "        return current.count\n",
        "\n",
        "    def search(self, word: str) -> str:\n",
        "          node = self.root\n",
        "          found_word = \"\"\n",
        "          for char in word:\n",
        "              if char not in node.children:\n",
        "                  return self.suggestions(word)\n",
        "              node = node.children[char]\n",
        "              found_word += char\n",
        "          if node.is_end_of_word:\n",
        "              return found_word\n",
        "          else:\n",
        "              return \"\"\n",
        "\n",
        "    def suggestions(self, word):\n",
        "        results = []\n",
        "        for i in range(len(word), 0, -1):\n",
        "            prefix = word[:i]\n",
        "            self._search(self.root, prefix, results)\n",
        "        char = prefix[:1]\n",
        "        if char in self.keyboard_mapping:\n",
        "            for mapped_char in self.keyboard_mapping[char]:\n",
        "                self._search(self.root, mapped_char+prefix[1:], results)\n",
        "        results.sort(key=lambda x: self.frequency(x), reverse=True)\n",
        "        return set(results)\n",
        "\n",
        "    def _search(self, node, prefix, results):\n",
        "        for char in prefix:\n",
        "            if char not in node.children:\n",
        "                return\n",
        "            node = node.children[char]\n",
        "        self._collect(node, prefix, results)\n",
        "\n",
        "    def _collect(self, node, prefix, results):\n",
        "        if node.is_end_of_word:\n",
        "            results.append(prefix)\n",
        "\n",
        "        for char, child_node in node.children.items():\n",
        "            self._collect(child_node, prefix + char, results)\n"
      ],
      "metadata": {
        "id": "TMmChpWEFkDQ"
      },
      "execution_count": 9,
      "outputs": []
    },
    {
      "cell_type": "code",
      "source": [
        "# Example of dataset Usage:\n",
        "trie = Trie()\n",
        "words = [\"عربية\", \"عربي\", \"عرب\", \"غربية\", \"بحر\", \"عرب\", \"غربية\", \"عرب\", \"غربية\", \"عرب\", \"غربية\"]\n",
        "for word in words:\n",
        "    trie.insert(word)"
      ],
      "metadata": {
        "id": "__nbitLhFz3u"
      },
      "execution_count": 10,
      "outputs": []
    },
    {
      "cell_type": "code",
      "source": [
        "word = \"عربيياه\"\n",
        "import time\n",
        "start_time = time.time() * 1000\n",
        "solutions = trie.search(word)\n",
        "end_time = time.time() * 1000  # Record the end time in milliseconds\n",
        "execution_time = end_time - start_time\n",
        "print(\"solutions\",solutions)\n",
        "print(\"Time taken:\", execution_time, \"ms\")"
      ],
      "metadata": {
        "id": "rqZGFfCKF04G",
        "colab": {
          "base_uri": "https://localhost:8080/"
        },
        "outputId": "086212fa-4e7a-4d5a-fde1-f80ca169b593"
      },
      "execution_count": 11,
      "outputs": [
        {
          "output_type": "stream",
          "name": "stdout",
          "text": [
            "solutions {'عرب', 'غربية', 'عربي', 'عربية'}\n",
            "Time taken: 0.224853515625 ms\n"
          ]
        }
      ]
    },
    {
      "cell_type": "code",
      "source": [
        "word = \"بحر\"\n",
        "import time\n",
        "start_time = time.time() * 1000\n",
        "solutions = trie.search(word)\n",
        "end_time = time.time() * 1000  # Record the end time in milliseconds\n",
        "execution_time = end_time - start_time\n",
        "print(\"solutions\",solutions)\n",
        "print(\"Time taken:\", execution_time, \"ms\")"
      ],
      "metadata": {
        "colab": {
          "base_uri": "https://localhost:8080/"
        },
        "id": "tgqnFsU6qu6R",
        "outputId": "77f3aa66-503a-42d4-ea1b-6a71832a0053"
      },
      "execution_count": 12,
      "outputs": [
        {
          "output_type": "stream",
          "name": "stdout",
          "text": [
            "solutions بحر\n",
            "Time taken: 0.118408203125 ms\n"
          ]
        }
      ]
    }
  ]
}